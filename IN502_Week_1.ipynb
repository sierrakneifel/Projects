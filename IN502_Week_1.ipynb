{
  "nbformat": 4,
  "nbformat_minor": 0,
  "metadata": {
    "colab": {
      "provenance": [],
      "authorship_tag": "ABX9TyNlXgyO2m3ZPhwasrVSHu5V",
      "include_colab_link": true
    },
    "kernelspec": {
      "name": "python3",
      "display_name": "Python 3"
    },
    "language_info": {
      "name": "python"
    }
  },
  "cells": [
    {
      "cell_type": "markdown",
      "metadata": {
        "id": "view-in-github",
        "colab_type": "text"
      },
      "source": [
        "<a href=\"https://colab.research.google.com/github/sierrakneifel/Projects/blob/main/IN502_Week_1.ipynb\" target=\"_parent\"><img src=\"https://colab.research.google.com/assets/colab-badge.svg\" alt=\"Open In Colab\"/></a>"
      ]
    },
    {
      "cell_type": "markdown",
      "source": [
        "Measures of Center"
      ],
      "metadata": {
        "id": "ntmX0dFthitd"
      }
    },
    {
      "cell_type": "markdown",
      "source": [
        "# New Section"
      ],
      "metadata": {
        "id": "6GLJ-0FBen5B"
      }
    },
    {
      "cell_type": "code",
      "source": [
        "import pandas as pd\n",
        "\n",
        "df = pd.read_csv('mtcars.csv')# read in the file mtcars.csv\n",
        "\n",
        "mean = df['wt'].mean()  # find the mean of the column wt\n",
        "median = df['wt'].median()  # find the median of the column wt\n",
        "mode = df['wt'].mode() # find the mode of the column wt\n",
        "\n",
        "print(\"mean = {:.5f}, median = {:.3f}, mode = {}\".format(mean, median, mode))"
      ],
      "metadata": {
        "id": "QIUY2iuOhhsg"
      },
      "execution_count": null,
      "outputs": []
    },
    {
      "cell_type": "markdown",
      "source": [
        "Data Frames"
      ],
      "metadata": {
        "id": "2ta2TjGpieu_"
      }
    },
    {
      "cell_type": "code",
      "source": [
        "import pandas as pd\n",
        "\n",
        "cars_df = pd.read_csv(\"Cars.csv\") # Import the CSV file Cars.csv\n",
        "\n",
        "user_num = int(input())\n",
        "\n",
        "subset = cars_df.head(user_num)\n",
        "\n",
        "print(subset.max())"
      ],
      "metadata": {
        "id": "2rC9BEO6ipP-"
      },
      "execution_count": null,
      "outputs": []
    },
    {
      "cell_type": "markdown",
      "source": [
        "Subsetting Data Frames"
      ],
      "metadata": {
        "id": "PcOcThUnirPt"
      }
    },
    {
      "cell_type": "code",
      "source": [
        "import pandas as pd\n",
        "\n",
        "cylinders = int(input())\n",
        "\n",
        "df = pd.read_csv('mtcars.csv') # read in the csv file mtcars.csv\n",
        "\n",
        "#print(df[df.cyl == cylinders])\n",
        "\n",
        "df_cyl = df[df.cyl == cylinders]  # create a new dataframe with only the rows where cyl = cylinders\n",
        "\n",
        "\n",
        "print(df_cyl.shape) # ( print the shape of the new data frame)"
      ],
      "metadata": {
        "id": "6T6qT5muiuhD"
      },
      "execution_count": null,
      "outputs": []
    },
    {
      "cell_type": "code",
      "source": [
        "import pandas as pd # load the pandas module as pd\n",
        "\n",
        "titanic = pd.read_csv('titanic.csv') # load titanic.csv\n",
        "\n",
        "first_south = titanic[(titanic.pclass == 1) & (titanic.embark_town == 'Southampton')] # subset the titanic dataset to include first class passengers who embarked in Southampton\n",
        "\n",
        "second_third = titanic[(titanic.pclass == 2) | (titanic.pclass == 3)]# subset the titanic dataset to include either second or third class passengers\n",
        "\n",
        "print(first_south.head())\n",
        "print(second_third.head())"
      ],
      "metadata": {
        "id": "coUZbjg_jQo-"
      },
      "execution_count": null,
      "outputs": []
    },
    {
      "cell_type": "code",
      "source": [
        "import pandas as pd\n",
        "\n",
        "tgt = pd.read_csv('target.csv')\n",
        "\n",
        "tgt_march = tgt[-19:]\n",
        "\n",
        "tgt_vol = tgt_march[[\"Date\", \"Volume\"]]\n",
        "\n",
        "tgt_close = tgt_march[[\"Date\", \"Close\"]]\n",
        "\n",
        "day = int(input()) - 1\n",
        "\n",
        "\n",
        "volume_row = tgt_vol.iloc[[day]] #subset the specific row of tgt_vol for the given day\n",
        "volume = volume_row.iloc[0][1]\n",
        "\n",
        "close_row = tgt_close.iloc[[day]] #subset the specific row of tgt_close for the given day\n",
        "close = close_row.iloc[0][1]\n",
        "\n",
        "date = tgt_march.iloc[[day]].iloc[0][0] #gets the date\n",
        "\n",
        "print(\"The volume of TGT on \" + str(date) + \" is \" + str(int(volume)) + \".\")\n",
        "print(\"The closing stock price of TGT on \" + str(date) + \" is $\" + str(close) + \".\")"
      ],
      "metadata": {
        "id": "5Y_Cc1fVjYY3"
      },
      "execution_count": null,
      "outputs": []
    },
    {
      "cell_type": "code",
      "source": [
        "import pandas as pd\n",
        "\n",
        "titanic = pd.read_csv('titanic.csv')\n",
        "\n",
        "df = titanic[(titanic.sex == 'male') & (titanic.pclass == 1) & (titanic.age > 18)] # subset titanic to include male passengers in first class over 18 years old\n",
        "\n",
        "print(df.head())"
      ],
      "metadata": {
        "id": "s4RFPia1jc52"
      },
      "execution_count": null,
      "outputs": []
    },
    {
      "cell_type": "markdown",
      "source": [
        "Standard Deviation"
      ],
      "metadata": {
        "id": "Xs8zEqcojh_N"
      }
    },
    {
      "cell_type": "code",
      "source": [
        "import pandas as pd\n",
        "import scipy.stats as st # Also import the scipy.stats module.\n",
        "\n",
        "NBA2019_df = pd.read_csv('NBA2019.csv')\n",
        "\n",
        "# Input desired column. Ex: AGE, 2P%, or PointsPerGame.\n",
        "chosen_column =  input()\n",
        "\n",
        "# Create subset of NBA2019_df based on input.\n",
        "NBA2019_df_column = NBA2019_df[chosen_column]\n",
        "\n",
        "# Find standard deviation and round to two decimal places.\n",
        "sample_s = st.tstd(NBA2019_df_column)\n",
        "sample_s_rounded = round(sample_s, 2)\n",
        "\n",
        "# Output\n",
        "print('The standard deviation for', chosen_column, 'is:', sample_s_rounded)"
      ],
      "metadata": {
        "id": "KNuOaMG0jmc4"
      },
      "execution_count": null,
      "outputs": []
    },
    {
      "cell_type": "markdown",
      "source": [
        "Five-Number Summary"
      ],
      "metadata": {
        "id": "kVOh47nfjp32"
      }
    },
    {
      "cell_type": "code",
      "source": [
        "import pandas as pd\n",
        "\n",
        "df = pd.read_csv('internetusage.csv')\n",
        "\n",
        "internet = df[[\"internet_usage\"]] # subset the column internet_usage\n",
        "\n",
        "five_num = internet.describe() # find the five number summary\n",
        "\n",
        "print(five_num)"
      ],
      "metadata": {
        "id": "eASoCgxljsQ_"
      },
      "execution_count": null,
      "outputs": []
    },
    {
      "cell_type": "markdown",
      "source": [
        "Indexing"
      ],
      "metadata": {
        "id": "mhBmhoC4jyuV"
      }
    },
    {
      "cell_type": "code",
      "source": [
        "import pandas as pd\n",
        "\n",
        "df = pd.read_csv('internetusage.csv')\n",
        "\n",
        "population = df[['State', 'Population']]\n",
        "\n",
        "state_index = int(input())\n",
        "\n",
        "state_data = population.iloc[state_index]\n",
        "\n",
        "state_name = state_data.iloc[0]\n",
        "\n",
        "state_pop = state_data.iloc[1]\n",
        "\n",
        "print(\"The population of \" + str(state_name) + \" is \" + str(state_pop)+ \".\")"
      ],
      "metadata": {
        "id": "Z3WHIKlzjzvO"
      },
      "execution_count": null,
      "outputs": []
    }
  ]
}